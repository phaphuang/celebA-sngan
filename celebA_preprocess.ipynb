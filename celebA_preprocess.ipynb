{
 "cells": [
  {
   "cell_type": "code",
   "execution_count": 1,
   "metadata": {},
   "outputs": [],
   "source": [
    "import os\n",
    "from PIL import Image \n",
    "import pandas as pd\n",
    "import pickle\n",
    "import numpy as np\n",
    "from tqdm import tqdm"
   ]
  },
  {
   "cell_type": "code",
   "execution_count": 2,
   "metadata": {},
   "outputs": [],
   "source": [
    "data_root = 'data/CelebA'\n",
    "\n",
    "data_dir = os.path.join(data_root, 'splits/train/')\n",
    "save_dir = os.path.join(data_root, 'resized_celebA_identity/train/')\n",
    "\n",
    "image_size = 64\n",
    "crop_size = 150\n",
    "\n",
    "if not os.path.isdir(save_dir):\n",
    "    os.mkdir(save_dir)\n",
    "\n",
    "img_list = os.listdir(data_dir)"
   ]
  },
  {
   "cell_type": "code",
   "execution_count": 3,
   "metadata": {},
   "outputs": [
    {
     "data": {
      "text/plain": [
       "162771"
      ]
     },
     "execution_count": 3,
     "metadata": {},
     "output_type": "execute_result"
    }
   ],
   "source": [
    "len(img_list)"
   ]
  },
  {
   "cell_type": "code",
   "execution_count": 4,
   "metadata": {},
   "outputs": [
    {
     "data": {
      "text/plain": [
       "array([['000001.jpg', 2880],\n",
       "       ['000002.jpg', 2937],\n",
       "       ['000003.jpg', 8692],\n",
       "       ...,\n",
       "       ['202597.jpg', 9852],\n",
       "       ['202598.jpg', 5570],\n",
       "       ['202599.jpg', 10101]], dtype=object)"
      ]
     },
     "execution_count": 4,
     "metadata": {},
     "output_type": "execute_result"
    }
   ],
   "source": [
    "# Convert text file to pandas dataframe -> change to numpy array\n",
    "data = pd.read_table('identity_CelebA.txt', delim_whitespace=True, names=('file', 'id')).values.squeeze()\n",
    "data"
   ]
  },
  {
   "cell_type": "code",
   "execution_count": null,
   "metadata": {},
   "outputs": [
    {
     "name": "stderr",
     "output_type": "stream",
     "text": [
      " 85%|████████▍ | 138094/162770 [05:27<01:00, 405.84it/s]"
     ]
    }
   ],
   "source": [
    "new_data = []\n",
    "cnt = 0\n",
    "for i in tqdm(range(len(img_list)-1)):\n",
    "    img = Image.open(data_dir + data[i][0])\n",
    "    c_x = (img.size[0] - crop_size) // 2\n",
    "    c_y = (img.size[1] - crop_size) // 2\n",
    "    img = img.crop([c_x, c_y, c_x + crop_size, c_y + crop_size])\n",
    "    img = img.resize((image_size, image_size), Image.BILINEAR)\n",
    "    \n",
    "    # Create new director\n",
    "    if not os.path.isdir(os.path.join(save_dir, str(data[i][1]))):\n",
    "        os.mkdir(os.path.join(save_dir, str(data[i][1])))\n",
    "    \n",
    "    img.save(save_dir + str(data[i][1]) + '/' + data[i][0], 'JPEG')\n",
    "    \n",
    "    new_data.append(data[i][1])\n",
    "    \n",
    "    #cnt += 1\n",
    "    #if cnt % 1000 == 0:\n",
    "    #    print('Resizing %s images...' % cnt)\n",
    "    \n",
    "    #print('Total %d images are resized.' % cnt)"
   ]
  },
  {
   "cell_type": "code",
   "execution_count": null,
   "metadata": {},
   "outputs": [],
   "source": [
    "saved_pickle = os.path.join(data_root, 'identity_label.pkl')\n",
    "with open(saved_pickle, 'wb') as fp:\n",
    "    pickle.dump(np.array(new_data), fp)"
   ]
  },
  {
   "cell_type": "code",
   "execution_count": null,
   "metadata": {},
   "outputs": [],
   "source": []
  }
 ],
 "metadata": {
  "kernelspec": {
   "display_name": "Python 3",
   "language": "python",
   "name": "python3"
  },
  "language_info": {
   "codemirror_mode": {
    "name": "ipython",
    "version": 3
   },
   "file_extension": ".py",
   "mimetype": "text/x-python",
   "name": "python",
   "nbconvert_exporter": "python",
   "pygments_lexer": "ipython3",
   "version": "3.6.5"
  }
 },
 "nbformat": 4,
 "nbformat_minor": 2
}
