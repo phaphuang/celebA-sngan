{
 "cells": [
  {
   "cell_type": "code",
   "execution_count": 8,
   "metadata": {},
   "outputs": [],
   "source": [
    "import os\n",
    "from PIL import Image \n",
    "import pandas as pd\n",
    "import pickle\n",
    "import numpy as np\n",
    "from tqdm import tqdm"
   ]
  },
  {
   "cell_type": "code",
   "execution_count": 9,
   "metadata": {},
   "outputs": [],
   "source": [
    "data_root = 'data/CelebA'\n",
    "\n",
    "data_dir = os.path.join(data_root, 'splits/train/')\n",
    "save_dir = os.path.join(data_root, 'resized_celebA_identity/train/')\n",
    "\n",
    "image_size = 64\n",
    "crop_size = 150\n",
    "\n",
    "if not os.path.isdir(save_dir):\n",
    "    os.mkdir(save_dir)\n",
    "\n",
    "img_list = os.listdir(data_dir)"
   ]
  },
  {
   "cell_type": "code",
   "execution_count": 10,
   "metadata": {},
   "outputs": [
    {
     "data": {
      "text/plain": [
       "162771"
      ]
     },
     "execution_count": 10,
     "metadata": {},
     "output_type": "execute_result"
    }
   ],
   "source": [
    "len(img_list)"
   ]
  },
  {
   "cell_type": "code",
   "execution_count": 11,
   "metadata": {},
   "outputs": [
    {
     "data": {
      "text/plain": [
       "array([['000001.jpg', 2880],\n",
       "       ['000002.jpg', 2937],\n",
       "       ['000003.jpg', 8692],\n",
       "       ...,\n",
       "       ['202597.jpg', 9852],\n",
       "       ['202598.jpg', 5570],\n",
       "       ['202599.jpg', 10101]], dtype=object)"
      ]
     },
     "execution_count": 11,
     "metadata": {},
     "output_type": "execute_result"
    }
   ],
   "source": [
    "# Convert text file to pandas dataframe -> change to numpy array\n",
    "data = pd.read_table('identity_CelebA.txt', delim_whitespace=True, names=('file', 'id')).values.squeeze()\n",
    "data"
   ]
  },
  {
   "cell_type": "code",
   "execution_count": 16,
   "metadata": {},
   "outputs": [
    {
     "name": "stderr",
     "output_type": "stream",
     "text": [
      "\n",
      "  0%|          | 0/162770 [00:00<?, ?it/s]\u001b[A\n",
      "  0%|          | 41/162770 [00:00<06:39, 406.89it/s]\u001b[A\n",
      "  0%|          | 79/162770 [00:00<06:48, 398.35it/s]\u001b[A\n",
      "  0%|          | 118/162770 [00:00<06:50, 395.76it/s]\u001b[A\n",
      "  0%|          | 158/162770 [00:00<06:51, 395.41it/s]\u001b[A\n",
      "  0%|          | 198/162770 [00:00<06:51, 394.99it/s]\u001b[A\n",
      "  0%|          | 240/162770 [00:00<06:46, 399.56it/s]\u001b[A\n",
      "  0%|          | 282/162770 [00:00<06:42, 404.10it/s]\u001b[A\n",
      "  0%|          | 325/162770 [00:00<06:37, 409.18it/s]\u001b[A\n",
      "  0%|          | 366/162770 [00:00<06:38, 407.88it/s]\u001b[A\n",
      "  0%|          | 406/162770 [00:01<06:40, 404.90it/s]\u001b[A\n",
      "  0%|          | 446/162770 [00:01<06:42, 403.04it/s]\u001b[A\n",
      "  0%|          | 486/162770 [00:01<06:51, 393.94it/s]\u001b[A\n",
      "  0%|          | 525/162770 [00:01<06:55, 390.40it/s]\u001b[A\n",
      "  0%|          | 566/162770 [00:01<06:50, 395.26it/s]\u001b[A\n",
      "  0%|          | 606/162770 [00:01<06:49, 395.80it/s]\u001b[A\n",
      "  0%|          | 646/162770 [00:01<06:51, 394.13it/s]\u001b[A\n",
      "  0%|          | 688/162770 [00:01<06:46, 398.64it/s]\u001b[A\n",
      "  0%|          | 730/162770 [00:01<06:42, 402.31it/s]\u001b[A\n",
      "  0%|          | 772/162770 [00:01<06:38, 406.50it/s]\u001b[A\n",
      "  0%|          | 813/162770 [00:02<06:39, 405.78it/s]\u001b[A\n",
      "  1%|          | 854/162770 [00:02<06:39, 405.10it/s]\u001b[A\n",
      "  1%|          | 895/162770 [00:02<06:44, 400.48it/s]\u001b[A\n",
      "  1%|          | 936/162770 [00:02<06:43, 401.10it/s]\u001b[A\n",
      "  1%|          | 977/162770 [00:02<06:43, 400.98it/s]\u001b[A\n",
      "  1%|          | 1018/162770 [00:02<06:47, 396.47it/s]\u001b[A\n",
      "  1%|          | 1058/162770 [00:02<06:49, 394.57it/s]\u001b[A\n",
      "  1%|          | 1098/162770 [00:02<06:52, 391.58it/s]\u001b[A\n",
      "  1%|          | 1138/162770 [00:02<06:50, 393.67it/s]\u001b[A\n",
      "  1%|          | 1178/162770 [00:02<06:51, 392.64it/s]\u001b[A\n",
      "  1%|          | 1219/162770 [00:03<06:48, 395.84it/s]\u001b[A\n",
      "  1%|          | 1259/162770 [00:03<06:52, 392.02it/s]\u001b[A\n",
      "  1%|          | 1299/162770 [00:03<06:54, 389.72it/s]\u001b[A\n",
      "  1%|          | 1338/162770 [00:03<06:54, 389.20it/s]\u001b[A\n",
      "  1%|          | 1377/162770 [00:03<06:57, 386.72it/s]\u001b[A\n",
      "  1%|          | 1416/162770 [00:03<06:57, 386.32it/s]\u001b[A\n",
      "  1%|          | 1455/162770 [00:03<07:00, 383.39it/s]\u001b[A\n",
      "  1%|          | 1494/162770 [00:03<07:01, 382.54it/s]\u001b[A\n",
      "  1%|          | 1533/162770 [00:03<07:00, 383.25it/s]\u001b[A\n",
      "  1%|          | 1572/162770 [00:03<07:02, 381.47it/s]\u001b[A\n",
      "  1%|          | 1611/162770 [00:04<07:04, 379.73it/s]\u001b[A\n",
      "  1%|          | 1649/162770 [00:04<07:04, 379.52it/s]\u001b[A\n",
      "  1%|          | 1688/162770 [00:04<07:03, 379.92it/s]\u001b[A\n",
      "  1%|          | 1727/162770 [00:04<07:01, 382.18it/s]\u001b[A\n",
      "  1%|          | 1767/162770 [00:04<06:58, 384.75it/s]\u001b[A\n",
      "  1%|          | 1807/162770 [00:04<06:56, 386.73it/s]\u001b[A\n",
      "  1%|          | 1846/162770 [00:04<06:57, 385.21it/s]\u001b[A\n",
      "  1%|          | 1885/162770 [00:04<06:56, 386.07it/s]\u001b[A\n",
      "  1%|          | 1924/162770 [00:04<06:56, 385.86it/s]\u001b[A\n",
      "  1%|          | 1963/162770 [00:04<06:56, 385.79it/s]\u001b[A\n",
      "  1%|          | 2002/162770 [00:05<06:56, 386.13it/s]\u001b[A\n",
      "  1%|▏         | 2041/162770 [00:05<06:58, 383.96it/s]\u001b[A\n",
      "  1%|▏         | 2083/162770 [00:05<06:49, 392.35it/s]\u001b[A\n",
      "  1%|▏         | 2124/162770 [00:05<06:45, 396.62it/s]\u001b[A\n",
      "  1%|▏         | 2165/162770 [00:05<06:41, 400.35it/s]\u001b[A\n",
      "  1%|▏         | 2207/162770 [00:05<06:37, 403.71it/s]\u001b[A\n",
      "  1%|▏         | 2250/162770 [00:05<06:32, 409.01it/s]\u001b[A\n",
      "  1%|▏         | 2291/162770 [00:05<06:35, 405.97it/s]\u001b[A\n",
      "  1%|▏         | 2332/162770 [00:05<06:34, 406.22it/s]\u001b[A\n",
      "  1%|▏         | 2373/162770 [00:06<06:37, 403.02it/s]\u001b[A\n",
      "  1%|▏         | 2414/162770 [00:06<06:39, 401.63it/s]\u001b[A"
     ]
    },
    {
     "ename": "KeyboardInterrupt",
     "evalue": "",
     "output_type": "error",
     "traceback": [
      "\u001b[0;31m---------------------------------------------------------------------------\u001b[0m",
      "\u001b[0;31mKeyboardInterrupt\u001b[0m                         Traceback (most recent call last)",
      "\u001b[0;32m<ipython-input-16-4916e7020a81>\u001b[0m in \u001b[0;36m<module>\u001b[0;34m\u001b[0m\n\u001b[1;32m     12\u001b[0m         \u001b[0mos\u001b[0m\u001b[0;34m.\u001b[0m\u001b[0mmkdir\u001b[0m\u001b[0;34m(\u001b[0m\u001b[0mos\u001b[0m\u001b[0;34m.\u001b[0m\u001b[0mpath\u001b[0m\u001b[0;34m.\u001b[0m\u001b[0mjoin\u001b[0m\u001b[0;34m(\u001b[0m\u001b[0msave_dir\u001b[0m\u001b[0;34m,\u001b[0m \u001b[0mstr\u001b[0m\u001b[0;34m(\u001b[0m\u001b[0mdata\u001b[0m\u001b[0;34m[\u001b[0m\u001b[0mi\u001b[0m\u001b[0;34m]\u001b[0m\u001b[0;34m[\u001b[0m\u001b[0;36m1\u001b[0m\u001b[0;34m]\u001b[0m\u001b[0;34m)\u001b[0m\u001b[0;34m)\u001b[0m\u001b[0;34m)\u001b[0m\u001b[0;34m\u001b[0m\u001b[0m\n\u001b[1;32m     13\u001b[0m \u001b[0;34m\u001b[0m\u001b[0m\n\u001b[0;32m---> 14\u001b[0;31m     \u001b[0mimg\u001b[0m\u001b[0;34m.\u001b[0m\u001b[0msave\u001b[0m\u001b[0;34m(\u001b[0m\u001b[0msave_dir\u001b[0m \u001b[0;34m+\u001b[0m \u001b[0mstr\u001b[0m\u001b[0;34m(\u001b[0m\u001b[0mdata\u001b[0m\u001b[0;34m[\u001b[0m\u001b[0mi\u001b[0m\u001b[0;34m]\u001b[0m\u001b[0;34m[\u001b[0m\u001b[0;36m1\u001b[0m\u001b[0;34m]\u001b[0m\u001b[0;34m)\u001b[0m \u001b[0;34m+\u001b[0m \u001b[0;34m'/'\u001b[0m \u001b[0;34m+\u001b[0m \u001b[0mdata\u001b[0m\u001b[0;34m[\u001b[0m\u001b[0mi\u001b[0m\u001b[0;34m]\u001b[0m\u001b[0;34m[\u001b[0m\u001b[0;36m0\u001b[0m\u001b[0;34m]\u001b[0m\u001b[0;34m,\u001b[0m \u001b[0;34m'JPEG'\u001b[0m\u001b[0;34m)\u001b[0m\u001b[0;34m\u001b[0m\u001b[0m\n\u001b[0m\u001b[1;32m     15\u001b[0m \u001b[0;34m\u001b[0m\u001b[0m\n\u001b[1;32m     16\u001b[0m     \u001b[0mnew_data\u001b[0m\u001b[0;34m.\u001b[0m\u001b[0mappend\u001b[0m\u001b[0;34m(\u001b[0m\u001b[0mdata\u001b[0m\u001b[0;34m[\u001b[0m\u001b[0mi\u001b[0m\u001b[0;34m]\u001b[0m\u001b[0;34m[\u001b[0m\u001b[0;36m1\u001b[0m\u001b[0;34m]\u001b[0m\u001b[0;34m)\u001b[0m\u001b[0;34m\u001b[0m\u001b[0m\n",
      "\u001b[0;32m~/ai_research/lib/python3.6/site-packages/PIL/Image.py\u001b[0m in \u001b[0;36msave\u001b[0;34m(self, fp, format, **params)\u001b[0m\n\u001b[1;32m   1948\u001b[0m \u001b[0;34m\u001b[0m\u001b[0m\n\u001b[1;32m   1949\u001b[0m         \u001b[0;32mtry\u001b[0m\u001b[0;34m:\u001b[0m\u001b[0;34m\u001b[0m\u001b[0m\n\u001b[0;32m-> 1950\u001b[0;31m             \u001b[0msave_handler\u001b[0m\u001b[0;34m(\u001b[0m\u001b[0mself\u001b[0m\u001b[0;34m,\u001b[0m \u001b[0mfp\u001b[0m\u001b[0;34m,\u001b[0m \u001b[0mfilename\u001b[0m\u001b[0;34m)\u001b[0m\u001b[0;34m\u001b[0m\u001b[0m\n\u001b[0m\u001b[1;32m   1951\u001b[0m         \u001b[0;32mfinally\u001b[0m\u001b[0;34m:\u001b[0m\u001b[0;34m\u001b[0m\u001b[0m\n\u001b[1;32m   1952\u001b[0m             \u001b[0;31m# do what we can to clean up\u001b[0m\u001b[0;34m\u001b[0m\u001b[0;34m\u001b[0m\u001b[0m\n",
      "\u001b[0;32m~/ai_research/lib/python3.6/site-packages/PIL/JpegImagePlugin.py\u001b[0m in \u001b[0;36m_save\u001b[0;34m(im, fp, filename)\u001b[0m\n\u001b[1;32m    760\u001b[0m                   len(extra) + 1)\n\u001b[1;32m    761\u001b[0m \u001b[0;34m\u001b[0m\u001b[0m\n\u001b[0;32m--> 762\u001b[0;31m     \u001b[0mImageFile\u001b[0m\u001b[0;34m.\u001b[0m\u001b[0m_save\u001b[0m\u001b[0;34m(\u001b[0m\u001b[0mim\u001b[0m\u001b[0;34m,\u001b[0m \u001b[0mfp\u001b[0m\u001b[0;34m,\u001b[0m \u001b[0;34m[\u001b[0m\u001b[0;34m(\u001b[0m\u001b[0;34m\"jpeg\"\u001b[0m\u001b[0;34m,\u001b[0m \u001b[0;34m(\u001b[0m\u001b[0;36m0\u001b[0m\u001b[0;34m,\u001b[0m \u001b[0;36m0\u001b[0m\u001b[0;34m)\u001b[0m\u001b[0;34m+\u001b[0m\u001b[0mim\u001b[0m\u001b[0;34m.\u001b[0m\u001b[0msize\u001b[0m\u001b[0;34m,\u001b[0m \u001b[0;36m0\u001b[0m\u001b[0;34m,\u001b[0m \u001b[0mrawmode\u001b[0m\u001b[0;34m)\u001b[0m\u001b[0;34m]\u001b[0m\u001b[0;34m,\u001b[0m \u001b[0mbufsize\u001b[0m\u001b[0;34m)\u001b[0m\u001b[0;34m\u001b[0m\u001b[0m\n\u001b[0m\u001b[1;32m    763\u001b[0m \u001b[0;34m\u001b[0m\u001b[0m\n\u001b[1;32m    764\u001b[0m \u001b[0;34m\u001b[0m\u001b[0m\n",
      "\u001b[0;32m~/ai_research/lib/python3.6/site-packages/PIL/ImageFile.py\u001b[0m in \u001b[0;36m_save\u001b[0;34m(im, fp, tile, bufsize)\u001b[0m\n\u001b[1;32m    511\u001b[0m                 \u001b[0ml\u001b[0m\u001b[0;34m,\u001b[0m \u001b[0ms\u001b[0m \u001b[0;34m=\u001b[0m \u001b[0me\u001b[0m\u001b[0;34m.\u001b[0m\u001b[0mencode_to_pyfd\u001b[0m\u001b[0;34m(\u001b[0m\u001b[0;34m)\u001b[0m\u001b[0;34m\u001b[0m\u001b[0m\n\u001b[1;32m    512\u001b[0m             \u001b[0;32melse\u001b[0m\u001b[0;34m:\u001b[0m\u001b[0;34m\u001b[0m\u001b[0m\n\u001b[0;32m--> 513\u001b[0;31m                 \u001b[0ms\u001b[0m \u001b[0;34m=\u001b[0m \u001b[0me\u001b[0m\u001b[0;34m.\u001b[0m\u001b[0mencode_to_file\u001b[0m\u001b[0;34m(\u001b[0m\u001b[0mfh\u001b[0m\u001b[0;34m,\u001b[0m \u001b[0mbufsize\u001b[0m\u001b[0;34m)\u001b[0m\u001b[0;34m\u001b[0m\u001b[0m\n\u001b[0m\u001b[1;32m    514\u001b[0m             \u001b[0;32mif\u001b[0m \u001b[0ms\u001b[0m \u001b[0;34m<\u001b[0m \u001b[0;36m0\u001b[0m\u001b[0;34m:\u001b[0m\u001b[0;34m\u001b[0m\u001b[0m\n\u001b[1;32m    515\u001b[0m                 \u001b[0;32mraise\u001b[0m \u001b[0mIOError\u001b[0m\u001b[0;34m(\u001b[0m\u001b[0;34m\"encoder error %d when writing image file\"\u001b[0m \u001b[0;34m%\u001b[0m \u001b[0ms\u001b[0m\u001b[0;34m)\u001b[0m\u001b[0;34m\u001b[0m\u001b[0m\n",
      "\u001b[0;31mKeyboardInterrupt\u001b[0m: "
     ]
    }
   ],
   "source": [
    "new_data = []\n",
    "cnt = 0\n",
    "for i in tqdm(range(len(img_list)-1)):\n",
    "    img = Image.open(data_dir + data[i][0])\n",
    "    c_x = (img.size[0] - crop_size) // 2\n",
    "    c_y = (img.size[1] - crop_size) // 2\n",
    "    img = img.crop([c_x, c_y, c_x + crop_size, c_y + crop_size])\n",
    "    img = img.resize((image_size, image_size), Image.BILINEAR)\n",
    "    \n",
    "    # Create new director\n",
    "    if not os.path.isdir(os.path.join(save_dir, str(data[i][1]))):\n",
    "        os.mkdir(os.path.join(save_dir, str(data[i][1])))\n",
    "    \n",
    "    img.save(save_dir + str(data[i][1]) + '/' + data[i][0], 'JPEG')\n",
    "    \n",
    "    new_data.append(data[i][1])\n",
    "    \n",
    "    #cnt += 1\n",
    "    #if cnt % 1000 == 0:\n",
    "    #    print('Resizing %s images...' % cnt)\n",
    "    \n",
    "    #print('Total %d images are resized.' % cnt)"
   ]
  },
  {
   "cell_type": "code",
   "execution_count": 7,
   "metadata": {},
   "outputs": [],
   "source": [
    "saved_pickle = os.path.join(data_root, 'identity_label.pkl')\n",
    "with open(saved_pickle, 'wb') as fp:\n",
    "    pickle.dump(np.array(new_data), fp)"
   ]
  },
  {
   "cell_type": "code",
   "execution_count": null,
   "metadata": {},
   "outputs": [],
   "source": []
  }
 ],
 "metadata": {
  "kernelspec": {
   "display_name": "Python 3",
   "language": "python",
   "name": "python3"
  },
  "language_info": {
   "codemirror_mode": {
    "name": "ipython",
    "version": 3
   },
   "file_extension": ".py",
   "mimetype": "text/x-python",
   "name": "python",
   "nbconvert_exporter": "python",
   "pygments_lexer": "ipython3",
   "version": "3.6.5"
  }
 },
 "nbformat": 4,
 "nbformat_minor": 2
}
